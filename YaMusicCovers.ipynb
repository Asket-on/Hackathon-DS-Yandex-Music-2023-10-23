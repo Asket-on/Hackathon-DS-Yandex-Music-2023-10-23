{
  "nbformat": 4,
  "nbformat_minor": 0,
  "metadata": {
    "colab": {
      "provenance": [],
      "mount_file_id": "1MNbkyO9GeK1FZBofAGRlw_qQvZ7wxNHT",
      "authorship_tag": "ABX9TyPnfygnlNQBkmbYtz4WTnZH"
    },
    "kernelspec": {
      "name": "python3",
      "display_name": "Python 3"
    },
    "language_info": {
      "name": "python"
    }
  },
  "cells": [
    {
      "cell_type": "code",
      "execution_count": null,
      "metadata": {
        "id": "j8fk2Ujx_cn-"
      },
      "outputs": [],
      "source": [
        "=import pandas as pd"
      ]
    },
    {
      "cell_type": "code",
      "source": [
        "covers = pd.read_json('/content/drive/MyDrive/YaMusic/covers.json', lines=True)\n",
        "lyrics = pd.read_json('/content/drive/MyDrive/YaMusic/lyrics.json', lines=True)\n",
        "meta = pd.read_json('/content/drive/MyDrive/YaMusic/meta.json', lines=True)"
      ],
      "metadata": {
        "id": "4NVV53Ft_uX3"
      },
      "execution_count": null,
      "outputs": []
    },
    {
      "cell_type": "code",
      "source": [
        "datas = [covers, lyrics, meta]\n",
        "for i in range(len(datas)):\n",
        "    print(datas[i].head())\n",
        "    print()"
      ],
      "metadata": {
        "colab": {
          "base_uri": "https://localhost:8080/"
        },
        "id": "_Qx5eKNVcIjd",
        "outputId": "4aafb2c7-9bfd-4f28-bc72-b11e34e9ca33"
      },
      "execution_count": null,
      "outputs": [
        {
          "output_type": "stream",
          "name": "stdout",
          "text": [
            "                  original_track_id                          track_id  \\\n",
            "0  eeb69a3cb92300456b6a5f4162093851  eeb69a3cb92300456b6a5f4162093851   \n",
            "1  fe7ee8fc1959cc7214fa21c4840dff0a  fe7ee8fc1959cc7214fa21c4840dff0a   \n",
            "2  cd89fef7ffdd490db800357f47722b20  cd89fef7ffdd490db800357f47722b20   \n",
            "3  995665640dc319973d3173a74a03860c  995665640dc319973d3173a74a03860c   \n",
            "4                              None  d6288499d0083cc34e60a077b7c4b3e1   \n",
            "\n",
            "  track_remake_type  \n",
            "0          ORIGINAL  \n",
            "1          ORIGINAL  \n",
            "2          ORIGINAL  \n",
            "3          ORIGINAL  \n",
            "4             COVER  \n",
            "\n",
            "                            lyricId  \\\n",
            "0  a951f9504e89759e9d23039b7b17ec14   \n",
            "1  0c749bc3f01eb8e6cf986fa14ccfc585   \n",
            "2  e2c8830fbc86e5964478243099eec23a   \n",
            "3  e2c8830fbc86e5964478243099eec23a   \n",
            "4  7624653ca8522ba93470843c74961b7d   \n",
            "\n",
            "                                                text  \\\n",
            "0  Живу сейчас обломами, обломками не той любви\\n...   \n",
            "1  Tell me your fable\\nA fable\\nTell me your fabl...   \n",
            "2  You're ashamed about all your fears and doubts...   \n",
            "3  You're ashamed about all your fears and doubts...   \n",
            "4  You showed him all the best of you,\\nBut I'm a...   \n",
            "\n",
            "                           track_id  \n",
            "0  1c4b1230f937e4c548ff732523214dcd  \n",
            "1  0faea89b0d7d6235b5b74def72511bd8  \n",
            "2  9c6dc41d5ccd9968d07f055da5d8f741  \n",
            "3  bfd04a73e9cffdf0e282c92219a86ea1  \n",
            "4  8d70930d09cd239c948408d1317d8659  \n",
            "\n",
            "                           track_id          dttm                 title  \\\n",
            "0  c3b9d6a354ca008aa4518329aaa21380  1.639688e+12        Happy New Year   \n",
            "1  c57e3d13bbbf5322584a7e92e6f1f7ff  1.637762e+12            Bad Habits   \n",
            "2  955f2aafe8717908c140bf122ba4172d  1.637768e+12  Por Esa Loca Vanidad   \n",
            "3  fae5a077c9956045955dde02143bd8ff  1.637768e+12          Mil Lagrimas   \n",
            "4  6bede082154d34fc18d9a6744bc95bf5  1.637768e+12   Sexo Humo y Alcohol   \n",
            "\n",
            "  language          isrc             genres  duration  \n",
            "0       EN  RUB422103970            [DANCE]  161120.0  \n",
            "1       EN  QZN882178276      [ELECTRONICS]  362260.0  \n",
            "2     None  QZNJZ2122549  [FOLK, LATINFOLK]  260000.0  \n",
            "3     None  QZNJZ2166033  [FOLK, LATINFOLK]  190000.0  \n",
            "4     None  QZNJZ2122551  [FOLK, LATINFOLK]  203000.0  \n",
            "\n"
          ]
        }
      ]
    },
    {
      "cell_type": "code",
      "source": [
        "for i in range(len(datas)):\n",
        "    print(datas[i].info())\n",
        "    print()"
      ],
      "metadata": {
        "colab": {
          "base_uri": "https://localhost:8080/"
        },
        "id": "JHTJSvTIcfYy",
        "outputId": "449ce987-6da8-4ffa-f182-6607a7518011"
      },
      "execution_count": null,
      "outputs": [
        {
          "output_type": "stream",
          "name": "stdout",
          "text": [
            "<class 'pandas.core.frame.DataFrame'>\n",
            "RangeIndex: 71597 entries, 0 to 71596\n",
            "Data columns (total 3 columns):\n",
            " #   Column             Non-Null Count  Dtype \n",
            "---  ------             --------------  ----- \n",
            " 0   original_track_id  4821 non-null   object\n",
            " 1   track_id           71597 non-null  object\n",
            " 2   track_remake_type  71597 non-null  object\n",
            "dtypes: object(3)\n",
            "memory usage: 1.6+ MB\n",
            "None\n",
            "\n",
            "<class 'pandas.core.frame.DataFrame'>\n",
            "RangeIndex: 11414 entries, 0 to 11413\n",
            "Data columns (total 3 columns):\n",
            " #   Column    Non-Null Count  Dtype \n",
            "---  ------    --------------  ----- \n",
            " 0   lyricId   11414 non-null  object\n",
            " 1   text      11414 non-null  object\n",
            " 2   track_id  11414 non-null  object\n",
            "dtypes: object(3)\n",
            "memory usage: 267.6+ KB\n",
            "None\n",
            "\n",
            "<class 'pandas.core.frame.DataFrame'>\n",
            "RangeIndex: 71769 entries, 0 to 71768\n",
            "Data columns (total 7 columns):\n",
            " #   Column    Non-Null Count  Dtype  \n",
            "---  ------    --------------  -----  \n",
            " 0   track_id  71768 non-null  object \n",
            " 1   dttm      71768 non-null  float64\n",
            " 2   title     71768 non-null  object \n",
            " 3   language  21969 non-null  object \n",
            " 4   isrc      71455 non-null  object \n",
            " 5   genres    71768 non-null  object \n",
            " 6   duration  71768 non-null  float64\n",
            "dtypes: float64(2), object(5)\n",
            "memory usage: 3.8+ MB\n",
            "None\n",
            "\n"
          ]
        }
      ]
    },
    {
      "cell_type": "markdown",
      "source": [
        "1. Присутствуют пропуски в language, isrc, original_track_id."
      ],
      "metadata": {
        "id": "MdZW8NH2LbpI"
      }
    },
    {
      "cell_type": "code",
      "source": [
        "for i in range(len(datas)):\n",
        "    print(datas[i]['track_id'].duplicated().sum())\n",
        "    print()"
      ],
      "metadata": {
        "colab": {
          "base_uri": "https://localhost:8080/"
        },
        "id": "dcpBqgvccpti",
        "outputId": "17006d6e-f2fd-4844-d986-82a5c86d62e6"
      },
      "execution_count": null,
      "outputs": [
        {
          "output_type": "stream",
          "name": "stdout",
          "text": [
            "0\n",
            "\n",
            "1137\n",
            "\n",
            "0\n",
            "\n"
          ]
        }
      ]
    },
    {
      "cell_type": "code",
      "source": [
        "duplicateRows = lyrics[lyrics.duplicated(['track_id'])]\n",
        "duplicateRows"
      ],
      "metadata": {
        "colab": {
          "base_uri": "https://localhost:8080/",
          "height": 424
        },
        "id": "s-WzHB9vcppl",
        "outputId": "54f6eace-d5f5-42ea-cf1f-0fc25f675d83"
      },
      "execution_count": null,
      "outputs": [
        {
          "output_type": "execute_result",
          "data": {
            "text/plain": [
              "                                lyricId  \\\n",
              "263    87966c7b6254c6298e18db41fea1b1a2   \n",
              "494    74825f6c746beceb4da57cf80d7d6c10   \n",
              "502    4d0a6051746a18c918bae3926710cb97   \n",
              "590    4a95959841d857516385893009cfe841   \n",
              "616    74c0d9fdd29e454653bfa23ec57e2808   \n",
              "...                                 ...   \n",
              "11398  49df743c7a49ab4b90825282434f2e72   \n",
              "11399  a16a7e2d216c914a505ec01102d57bb4   \n",
              "11408  da374afb1d2d6fbc85b40e68d22d2ab1   \n",
              "11411  22bae9d3185254ea34072c692a2cd63d   \n",
              "11412  0979b4049635e1c0fc161573f75ab23a   \n",
              "\n",
              "                                                    text  \\\n",
              "263    You ain't nothin' but a hound dog\\nJust crocki...   \n",
              "494    For the longest time we jamming at the party\\n...   \n",
              "502    You were the shadow to my light\\nDid you feel ...   \n",
              "590    You were the shadow to my light\\nDid you feel ...   \n",
              "616    All my friends are heathens, take it slow\\nWai...   \n",
              "...                                                  ...   \n",
              "11398  All the crazy shit I did tonight\\nThose will b...   \n",
              "11399  Now and then I think of when we were together\\...   \n",
              "11408  As he came into the window\\nIt was the sound o...   \n",
              "11411  Left a good job in the city\\nWorking for the m...   \n",
              "11412  Left a good job in the city\\nWorking for the m...   \n",
              "\n",
              "                               track_id  \n",
              "263    ea09c90790b997b6e384d75d424b3ffe  \n",
              "494    dec84e10ae3ecc5c363f495724799322  \n",
              "502    db69f2a265624a834d6e2a1238f6f225  \n",
              "590    db69f2a265624a834d6e2a1238f6f225  \n",
              "616    a367959976d3ca166beb46bdf66eefd0  \n",
              "...                                 ...  \n",
              "11398  f66bf9c7becdeb7c4ce9c70722a2009c  \n",
              "11399  76cee823cdb700bb2d24f6db2c34587c  \n",
              "11408  53bf57b9e4d3eed991f57a603a41c9d4  \n",
              "11411  d5c149b59a800a6f9f61adda6d3e1b1d  \n",
              "11412  d5c149b59a800a6f9f61adda6d3e1b1d  \n",
              "\n",
              "[1137 rows x 3 columns]"
            ],
            "text/html": [
              "\n",
              "  <div id=\"df-b9f745c8-919d-4e78-ac02-67104498bc03\" class=\"colab-df-container\">\n",
              "    <div>\n",
              "<style scoped>\n",
              "    .dataframe tbody tr th:only-of-type {\n",
              "        vertical-align: middle;\n",
              "    }\n",
              "\n",
              "    .dataframe tbody tr th {\n",
              "        vertical-align: top;\n",
              "    }\n",
              "\n",
              "    .dataframe thead th {\n",
              "        text-align: right;\n",
              "    }\n",
              "</style>\n",
              "<table border=\"1\" class=\"dataframe\">\n",
              "  <thead>\n",
              "    <tr style=\"text-align: right;\">\n",
              "      <th></th>\n",
              "      <th>lyricId</th>\n",
              "      <th>text</th>\n",
              "      <th>track_id</th>\n",
              "    </tr>\n",
              "  </thead>\n",
              "  <tbody>\n",
              "    <tr>\n",
              "      <th>263</th>\n",
              "      <td>87966c7b6254c6298e18db41fea1b1a2</td>\n",
              "      <td>You ain't nothin' but a hound dog\\nJust crocki...</td>\n",
              "      <td>ea09c90790b997b6e384d75d424b3ffe</td>\n",
              "    </tr>\n",
              "    <tr>\n",
              "      <th>494</th>\n",
              "      <td>74825f6c746beceb4da57cf80d7d6c10</td>\n",
              "      <td>For the longest time we jamming at the party\\n...</td>\n",
              "      <td>dec84e10ae3ecc5c363f495724799322</td>\n",
              "    </tr>\n",
              "    <tr>\n",
              "      <th>502</th>\n",
              "      <td>4d0a6051746a18c918bae3926710cb97</td>\n",
              "      <td>You were the shadow to my light\\nDid you feel ...</td>\n",
              "      <td>db69f2a265624a834d6e2a1238f6f225</td>\n",
              "    </tr>\n",
              "    <tr>\n",
              "      <th>590</th>\n",
              "      <td>4a95959841d857516385893009cfe841</td>\n",
              "      <td>You were the shadow to my light\\nDid you feel ...</td>\n",
              "      <td>db69f2a265624a834d6e2a1238f6f225</td>\n",
              "    </tr>\n",
              "    <tr>\n",
              "      <th>616</th>\n",
              "      <td>74c0d9fdd29e454653bfa23ec57e2808</td>\n",
              "      <td>All my friends are heathens, take it slow\\nWai...</td>\n",
              "      <td>a367959976d3ca166beb46bdf66eefd0</td>\n",
              "    </tr>\n",
              "    <tr>\n",
              "      <th>...</th>\n",
              "      <td>...</td>\n",
              "      <td>...</td>\n",
              "      <td>...</td>\n",
              "    </tr>\n",
              "    <tr>\n",
              "      <th>11398</th>\n",
              "      <td>49df743c7a49ab4b90825282434f2e72</td>\n",
              "      <td>All the crazy shit I did tonight\\nThose will b...</td>\n",
              "      <td>f66bf9c7becdeb7c4ce9c70722a2009c</td>\n",
              "    </tr>\n",
              "    <tr>\n",
              "      <th>11399</th>\n",
              "      <td>a16a7e2d216c914a505ec01102d57bb4</td>\n",
              "      <td>Now and then I think of when we were together\\...</td>\n",
              "      <td>76cee823cdb700bb2d24f6db2c34587c</td>\n",
              "    </tr>\n",
              "    <tr>\n",
              "      <th>11408</th>\n",
              "      <td>da374afb1d2d6fbc85b40e68d22d2ab1</td>\n",
              "      <td>As he came into the window\\nIt was the sound o...</td>\n",
              "      <td>53bf57b9e4d3eed991f57a603a41c9d4</td>\n",
              "    </tr>\n",
              "    <tr>\n",
              "      <th>11411</th>\n",
              "      <td>22bae9d3185254ea34072c692a2cd63d</td>\n",
              "      <td>Left a good job in the city\\nWorking for the m...</td>\n",
              "      <td>d5c149b59a800a6f9f61adda6d3e1b1d</td>\n",
              "    </tr>\n",
              "    <tr>\n",
              "      <th>11412</th>\n",
              "      <td>0979b4049635e1c0fc161573f75ab23a</td>\n",
              "      <td>Left a good job in the city\\nWorking for the m...</td>\n",
              "      <td>d5c149b59a800a6f9f61adda6d3e1b1d</td>\n",
              "    </tr>\n",
              "  </tbody>\n",
              "</table>\n",
              "<p>1137 rows × 3 columns</p>\n",
              "</div>\n",
              "    <div class=\"colab-df-buttons\">\n",
              "\n",
              "  <div class=\"colab-df-container\">\n",
              "    <button class=\"colab-df-convert\" onclick=\"convertToInteractive('df-b9f745c8-919d-4e78-ac02-67104498bc03')\"\n",
              "            title=\"Convert this dataframe to an interactive table.\"\n",
              "            style=\"display:none;\">\n",
              "\n",
              "  <svg xmlns=\"http://www.w3.org/2000/svg\" height=\"24px\" viewBox=\"0 -960 960 960\">\n",
              "    <path d=\"M120-120v-720h720v720H120Zm60-500h600v-160H180v160Zm220 220h160v-160H400v160Zm0 220h160v-160H400v160ZM180-400h160v-160H180v160Zm440 0h160v-160H620v160ZM180-180h160v-160H180v160Zm440 0h160v-160H620v160Z\"/>\n",
              "  </svg>\n",
              "    </button>\n",
              "\n",
              "  <style>\n",
              "    .colab-df-container {\n",
              "      display:flex;\n",
              "      gap: 12px;\n",
              "    }\n",
              "\n",
              "    .colab-df-convert {\n",
              "      background-color: #E8F0FE;\n",
              "      border: none;\n",
              "      border-radius: 50%;\n",
              "      cursor: pointer;\n",
              "      display: none;\n",
              "      fill: #1967D2;\n",
              "      height: 32px;\n",
              "      padding: 0 0 0 0;\n",
              "      width: 32px;\n",
              "    }\n",
              "\n",
              "    .colab-df-convert:hover {\n",
              "      background-color: #E2EBFA;\n",
              "      box-shadow: 0px 1px 2px rgba(60, 64, 67, 0.3), 0px 1px 3px 1px rgba(60, 64, 67, 0.15);\n",
              "      fill: #174EA6;\n",
              "    }\n",
              "\n",
              "    .colab-df-buttons div {\n",
              "      margin-bottom: 4px;\n",
              "    }\n",
              "\n",
              "    [theme=dark] .colab-df-convert {\n",
              "      background-color: #3B4455;\n",
              "      fill: #D2E3FC;\n",
              "    }\n",
              "\n",
              "    [theme=dark] .colab-df-convert:hover {\n",
              "      background-color: #434B5C;\n",
              "      box-shadow: 0px 1px 3px 1px rgba(0, 0, 0, 0.15);\n",
              "      filter: drop-shadow(0px 1px 2px rgba(0, 0, 0, 0.3));\n",
              "      fill: #FFFFFF;\n",
              "    }\n",
              "  </style>\n",
              "\n",
              "    <script>\n",
              "      const buttonEl =\n",
              "        document.querySelector('#df-b9f745c8-919d-4e78-ac02-67104498bc03 button.colab-df-convert');\n",
              "      buttonEl.style.display =\n",
              "        google.colab.kernel.accessAllowed ? 'block' : 'none';\n",
              "\n",
              "      async function convertToInteractive(key) {\n",
              "        const element = document.querySelector('#df-b9f745c8-919d-4e78-ac02-67104498bc03');\n",
              "        const dataTable =\n",
              "          await google.colab.kernel.invokeFunction('convertToInteractive',\n",
              "                                                    [key], {});\n",
              "        if (!dataTable) return;\n",
              "\n",
              "        const docLinkHtml = 'Like what you see? Visit the ' +\n",
              "          '<a target=\"_blank\" href=https://colab.research.google.com/notebooks/data_table.ipynb>data table notebook</a>'\n",
              "          + ' to learn more about interactive tables.';\n",
              "        element.innerHTML = '';\n",
              "        dataTable['output_type'] = 'display_data';\n",
              "        await google.colab.output.renderOutput(dataTable, element);\n",
              "        const docLink = document.createElement('div');\n",
              "        docLink.innerHTML = docLinkHtml;\n",
              "        element.appendChild(docLink);\n",
              "      }\n",
              "    </script>\n",
              "  </div>\n",
              "\n",
              "\n",
              "<div id=\"df-415b9195-65cc-44c0-83c2-26aa73c5a207\">\n",
              "  <button class=\"colab-df-quickchart\" onclick=\"quickchart('df-415b9195-65cc-44c0-83c2-26aa73c5a207')\"\n",
              "            title=\"Suggest charts.\"\n",
              "            style=\"display:none;\">\n",
              "\n",
              "<svg xmlns=\"http://www.w3.org/2000/svg\" height=\"24px\"viewBox=\"0 0 24 24\"\n",
              "     width=\"24px\">\n",
              "    <g>\n",
              "        <path d=\"M19 3H5c-1.1 0-2 .9-2 2v14c0 1.1.9 2 2 2h14c1.1 0 2-.9 2-2V5c0-1.1-.9-2-2-2zM9 17H7v-7h2v7zm4 0h-2V7h2v10zm4 0h-2v-4h2v4z\"/>\n",
              "    </g>\n",
              "</svg>\n",
              "  </button>\n",
              "\n",
              "<style>\n",
              "  .colab-df-quickchart {\n",
              "      --bg-color: #E8F0FE;\n",
              "      --fill-color: #1967D2;\n",
              "      --hover-bg-color: #E2EBFA;\n",
              "      --hover-fill-color: #174EA6;\n",
              "      --disabled-fill-color: #AAA;\n",
              "      --disabled-bg-color: #DDD;\n",
              "  }\n",
              "\n",
              "  [theme=dark] .colab-df-quickchart {\n",
              "      --bg-color: #3B4455;\n",
              "      --fill-color: #D2E3FC;\n",
              "      --hover-bg-color: #434B5C;\n",
              "      --hover-fill-color: #FFFFFF;\n",
              "      --disabled-bg-color: #3B4455;\n",
              "      --disabled-fill-color: #666;\n",
              "  }\n",
              "\n",
              "  .colab-df-quickchart {\n",
              "    background-color: var(--bg-color);\n",
              "    border: none;\n",
              "    border-radius: 50%;\n",
              "    cursor: pointer;\n",
              "    display: none;\n",
              "    fill: var(--fill-color);\n",
              "    height: 32px;\n",
              "    padding: 0;\n",
              "    width: 32px;\n",
              "  }\n",
              "\n",
              "  .colab-df-quickchart:hover {\n",
              "    background-color: var(--hover-bg-color);\n",
              "    box-shadow: 0 1px 2px rgba(60, 64, 67, 0.3), 0 1px 3px 1px rgba(60, 64, 67, 0.15);\n",
              "    fill: var(--button-hover-fill-color);\n",
              "  }\n",
              "\n",
              "  .colab-df-quickchart-complete:disabled,\n",
              "  .colab-df-quickchart-complete:disabled:hover {\n",
              "    background-color: var(--disabled-bg-color);\n",
              "    fill: var(--disabled-fill-color);\n",
              "    box-shadow: none;\n",
              "  }\n",
              "\n",
              "  .colab-df-spinner {\n",
              "    border: 2px solid var(--fill-color);\n",
              "    border-color: transparent;\n",
              "    border-bottom-color: var(--fill-color);\n",
              "    animation:\n",
              "      spin 1s steps(1) infinite;\n",
              "  }\n",
              "\n",
              "  @keyframes spin {\n",
              "    0% {\n",
              "      border-color: transparent;\n",
              "      border-bottom-color: var(--fill-color);\n",
              "      border-left-color: var(--fill-color);\n",
              "    }\n",
              "    20% {\n",
              "      border-color: transparent;\n",
              "      border-left-color: var(--fill-color);\n",
              "      border-top-color: var(--fill-color);\n",
              "    }\n",
              "    30% {\n",
              "      border-color: transparent;\n",
              "      border-left-color: var(--fill-color);\n",
              "      border-top-color: var(--fill-color);\n",
              "      border-right-color: var(--fill-color);\n",
              "    }\n",
              "    40% {\n",
              "      border-color: transparent;\n",
              "      border-right-color: var(--fill-color);\n",
              "      border-top-color: var(--fill-color);\n",
              "    }\n",
              "    60% {\n",
              "      border-color: transparent;\n",
              "      border-right-color: var(--fill-color);\n",
              "    }\n",
              "    80% {\n",
              "      border-color: transparent;\n",
              "      border-right-color: var(--fill-color);\n",
              "      border-bottom-color: var(--fill-color);\n",
              "    }\n",
              "    90% {\n",
              "      border-color: transparent;\n",
              "      border-bottom-color: var(--fill-color);\n",
              "    }\n",
              "  }\n",
              "</style>\n",
              "\n",
              "  <script>\n",
              "    async function quickchart(key) {\n",
              "      const quickchartButtonEl =\n",
              "        document.querySelector('#' + key + ' button');\n",
              "      quickchartButtonEl.disabled = true;  // To prevent multiple clicks.\n",
              "      quickchartButtonEl.classList.add('colab-df-spinner');\n",
              "      try {\n",
              "        const charts = await google.colab.kernel.invokeFunction(\n",
              "            'suggestCharts', [key], {});\n",
              "      } catch (error) {\n",
              "        console.error('Error during call to suggestCharts:', error);\n",
              "      }\n",
              "      quickchartButtonEl.classList.remove('colab-df-spinner');\n",
              "      quickchartButtonEl.classList.add('colab-df-quickchart-complete');\n",
              "    }\n",
              "    (() => {\n",
              "      let quickchartButtonEl =\n",
              "        document.querySelector('#df-415b9195-65cc-44c0-83c2-26aa73c5a207 button');\n",
              "      quickchartButtonEl.style.display =\n",
              "        google.colab.kernel.accessAllowed ? 'block' : 'none';\n",
              "    })();\n",
              "  </script>\n",
              "</div>\n",
              "    </div>\n",
              "  </div>\n"
            ]
          },
          "metadata": {},
          "execution_count": 6
        }
      ]
    },
    {
      "cell_type": "markdown",
      "source": [
        "Есть дубликаты по track_id, но с разным lyricId"
      ],
      "metadata": {
        "id": "adNjrivcL3sa"
      }
    },
    {
      "cell_type": "code",
      "source": [
        "lyrics = lyrics.drop_duplicates()"
      ],
      "metadata": {
        "id": "j_THDqovPxGo"
      },
      "execution_count": null,
      "outputs": []
    },
    {
      "cell_type": "code",
      "source": [
        "df = meta.merge(covers, how='left')\n",
        "df = df.merge(lyrics, how='left')"
      ],
      "metadata": {
        "id": "esP7un5Ccpkg"
      },
      "execution_count": null,
      "outputs": []
    },
    {
      "cell_type": "code",
      "source": [
        "df.info()"
      ],
      "metadata": {
        "colab": {
          "base_uri": "https://localhost:8080/"
        },
        "id": "dQmv3LrqNWye",
        "outputId": "659b6c89-7863-4a22-a959-ca572c8dfe0d"
      },
      "execution_count": null,
      "outputs": [
        {
          "output_type": "stream",
          "name": "stdout",
          "text": [
            "<class 'pandas.core.frame.DataFrame'>\n",
            "Int64Index: 72906 entries, 0 to 72905\n",
            "Data columns (total 11 columns):\n",
            " #   Column             Non-Null Count  Dtype  \n",
            "---  ------             --------------  -----  \n",
            " 0   track_id           72905 non-null  object \n",
            " 1   dttm               72905 non-null  float64\n",
            " 2   title              72905 non-null  object \n",
            " 3   language           22870 non-null  object \n",
            " 4   isrc               72566 non-null  object \n",
            " 5   genres             72905 non-null  object \n",
            " 6   duration           72905 non-null  float64\n",
            " 7   original_track_id  5378 non-null   object \n",
            " 8   track_remake_type  72571 non-null  object \n",
            " 9   lyricId            11414 non-null  object \n",
            " 10  text               11414 non-null  object \n",
            "dtypes: float64(2), object(9)\n",
            "memory usage: 6.7+ MB\n"
          ]
        }
      ]
    },
    {
      "cell_type": "code",
      "source": [
        "covers.shape"
      ],
      "metadata": {
        "colab": {
          "base_uri": "https://localhost:8080/"
        },
        "id": "C4DkpFPKNlEh",
        "outputId": "b0e53b2e-9314-45a3-fef2-248fec7b957c"
      },
      "execution_count": null,
      "outputs": [
        {
          "output_type": "execute_result",
          "data": {
            "text/plain": [
              "(71597, 3)"
            ]
          },
          "metadata": {},
          "execution_count": 10
        }
      ]
    },
    {
      "cell_type": "code",
      "source": [
        "meta.shape"
      ],
      "metadata": {
        "colab": {
          "base_uri": "https://localhost:8080/"
        },
        "id": "DAeKK9sSNqRk",
        "outputId": "dc48e244-086c-42c4-fef4-b975874efab2"
      },
      "execution_count": null,
      "outputs": [
        {
          "output_type": "execute_result",
          "data": {
            "text/plain": [
              "(71769, 7)"
            ]
          },
          "metadata": {},
          "execution_count": 11
        }
      ]
    },
    {
      "cell_type": "code",
      "source": [
        "lyrics.shape"
      ],
      "metadata": {
        "colab": {
          "base_uri": "https://localhost:8080/"
        },
        "id": "Jo-fI2EBNxdt",
        "outputId": "7f775816-da2b-46b1-c69a-979e58f4c965"
      },
      "execution_count": null,
      "outputs": [
        {
          "output_type": "execute_result",
          "data": {
            "text/plain": [
              "(11414, 3)"
            ]
          },
          "metadata": {},
          "execution_count": 12
        }
      ]
    },
    {
      "cell_type": "code",
      "source": [
        "df.shape"
      ],
      "metadata": {
        "colab": {
          "base_uri": "https://localhost:8080/"
        },
        "id": "VMBXG0uXOaLd",
        "outputId": "3e4b9a7d-c619-4c56-ce5b-921721145297"
      },
      "execution_count": null,
      "outputs": [
        {
          "output_type": "execute_result",
          "data": {
            "text/plain": [
              "(72906, 11)"
            ]
          },
          "metadata": {},
          "execution_count": 13
        }
      ]
    }
  ]
}