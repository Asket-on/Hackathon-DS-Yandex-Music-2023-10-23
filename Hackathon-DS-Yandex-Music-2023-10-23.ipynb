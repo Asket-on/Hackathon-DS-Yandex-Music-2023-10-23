{
 "cells": [
  {
   "cell_type": "markdown",
   "id": "c10011f1-aa2a-4fd9-8839-91010db4d042",
   "metadata": {},
   "source": [
    "Совместный хакатон студентов курсов Data Science и Менеджер проектов, где они работают в командах над разработкой ML-модели для сопоставления текстов музыкальных произведений и для поиска каверов (вариации обработки оригинала с элементами новой аранжировки) по их текстам.\n",
    "\n",
    "Необходимо разработать ML-продукт, который:\n",
    "\n",
    "- Находит все кавер-треки и/или исходники к заданному треку в датасете\n",
    "- Перечисляет все кавер-треки и/или оригиналы к заданному, указывает положение данного трека в цепочке каверов\n",
    "\n",
    "### Разметка каверов\n",
    "\n",
    "Файл covers.json содержит разметку каверов, сделанную редакторами сервиса:\n",
    "\n",
    "- track_id - уникальный идентификатор трека;\n",
    "- track_remake_type - метка, присвоенная редакторами. Может принимать значения ORIGINAL и COVER;\n",
    "- original_track_id - уникальный идентификатор исходного трека.\n",
    "\n",
    "💡 Обратите внимание, что не для всех каверов известны идентификаторы исходных треков!!!\n",
    "### Метаинформация\n",
    "\n",
    "- track_id - уникальный идентификатор трека;\n",
    "- dttm - первая дата появления информации о треке;\n",
    "- title - название трека;\n",
    "- language - язык исполнения;\n",
    "- isrc - международный уникальный идентификатор трека;\n",
    "- genres - жанры;\n",
    "- duration - длительность трека;\n",
    "\n",
    "### Текст песен\n",
    "\n",
    "- track_id - уникальный идентификатор трека;\n",
    "- lyricId - уникальный идентификатор текста;\n",
    "- text - текст трека."
   ]
  },
  {
   "cell_type": "code",
   "execution_count": 93,
   "id": "34557daa-83c5-4b93-b54b-834122044c35",
   "metadata": {},
   "outputs": [],
   "source": [
    "import pandas as pd\n",
    "import matplotlib.pyplot as plt"
   ]
  },
  {
   "cell_type": "markdown",
   "id": "b720cccf-1c2a-4ea3-bf0b-cc99be240942",
   "metadata": {},
   "source": [
    "### meta"
   ]
  },
  {
   "cell_type": "code",
   "execution_count": 101,
   "id": "bf31c3d3-c726-4507-8dbd-5041e9b4f4fd",
   "metadata": {},
   "outputs": [],
   "source": [
    "meta = pd.read_json('/home/asketon/Documents/Masterskaja_YP DS Yandex Music_2023-10-24/data/meta.json', lines=True)"
   ]
  },
  {
   "cell_type": "code",
   "execution_count": 102,
   "id": "a52d3771-fe77-4130-a753-fd2d65291b61",
   "metadata": {},
   "outputs": [
    {
     "data": {
      "text/plain": [
       "0"
      ]
     },
     "execution_count": 102,
     "metadata": {},
     "output_type": "execute_result"
    }
   ],
   "source": [
    "meta['track_id'].duplicated().sum()"
   ]
  },
  {
   "cell_type": "code",
   "execution_count": 103,
   "id": "93d52517-3109-4970-a0f6-941c667e23c6",
   "metadata": {},
   "outputs": [],
   "source": [
    "meta = meta.set_index('track_id')\n",
    "meta['dttm'] = pd.to_datetime(meta['dttm'], unit='ms')"
   ]
  },
  {
   "cell_type": "code",
   "execution_count": 104,
   "id": "f9d1d0ca-d273-4e1e-90e4-563ef69c0e9a",
   "metadata": {},
   "outputs": [
    {
     "data": {
      "text/html": [
       "<div>\n",
       "<style scoped>\n",
       "    .dataframe tbody tr th:only-of-type {\n",
       "        vertical-align: middle;\n",
       "    }\n",
       "\n",
       "    .dataframe tbody tr th {\n",
       "        vertical-align: top;\n",
       "    }\n",
       "\n",
       "    .dataframe thead th {\n",
       "        text-align: right;\n",
       "    }\n",
       "</style>\n",
       "<table border=\"1\" class=\"dataframe\">\n",
       "  <thead>\n",
       "    <tr style=\"text-align: right;\">\n",
       "      <th></th>\n",
       "      <th>dttm</th>\n",
       "      <th>title</th>\n",
       "      <th>language</th>\n",
       "      <th>isrc</th>\n",
       "      <th>genres</th>\n",
       "      <th>duration</th>\n",
       "    </tr>\n",
       "    <tr>\n",
       "      <th>track_id</th>\n",
       "      <th></th>\n",
       "      <th></th>\n",
       "      <th></th>\n",
       "      <th></th>\n",
       "      <th></th>\n",
       "      <th></th>\n",
       "    </tr>\n",
       "  </thead>\n",
       "  <tbody>\n",
       "    <tr>\n",
       "      <th>c3b9d6a354ca008aa4518329aaa21380</th>\n",
       "      <td>2021-12-16 21:00:00</td>\n",
       "      <td>Happy New Year</td>\n",
       "      <td>EN</td>\n",
       "      <td>RUB422103970</td>\n",
       "      <td>[DANCE]</td>\n",
       "      <td>161120.0</td>\n",
       "    </tr>\n",
       "    <tr>\n",
       "      <th>c57e3d13bbbf5322584a7e92e6f1f7ff</th>\n",
       "      <td>2021-11-24 14:00:33</td>\n",
       "      <td>Bad Habits</td>\n",
       "      <td>EN</td>\n",
       "      <td>QZN882178276</td>\n",
       "      <td>[ELECTRONICS]</td>\n",
       "      <td>362260.0</td>\n",
       "    </tr>\n",
       "    <tr>\n",
       "      <th>955f2aafe8717908c140bf122ba4172d</th>\n",
       "      <td>2021-11-24 15:37:03</td>\n",
       "      <td>Por Esa Loca Vanidad</td>\n",
       "      <td>None</td>\n",
       "      <td>QZNJZ2122549</td>\n",
       "      <td>[FOLK, LATINFOLK]</td>\n",
       "      <td>260000.0</td>\n",
       "    </tr>\n",
       "    <tr>\n",
       "      <th>fae5a077c9956045955dde02143bd8ff</th>\n",
       "      <td>2021-11-24 15:37:03</td>\n",
       "      <td>Mil Lagrimas</td>\n",
       "      <td>None</td>\n",
       "      <td>QZNJZ2166033</td>\n",
       "      <td>[FOLK, LATINFOLK]</td>\n",
       "      <td>190000.0</td>\n",
       "    </tr>\n",
       "    <tr>\n",
       "      <th>6bede082154d34fc18d9a6744bc95bf5</th>\n",
       "      <td>2021-11-24 15:37:03</td>\n",
       "      <td>Sexo Humo y Alcohol</td>\n",
       "      <td>None</td>\n",
       "      <td>QZNJZ2122551</td>\n",
       "      <td>[FOLK, LATINFOLK]</td>\n",
       "      <td>203000.0</td>\n",
       "    </tr>\n",
       "  </tbody>\n",
       "</table>\n",
       "</div>"
      ],
      "text/plain": [
       "                                                dttm                 title  \\\n",
       "track_id                                                                     \n",
       "c3b9d6a354ca008aa4518329aaa21380 2021-12-16 21:00:00        Happy New Year   \n",
       "c57e3d13bbbf5322584a7e92e6f1f7ff 2021-11-24 14:00:33            Bad Habits   \n",
       "955f2aafe8717908c140bf122ba4172d 2021-11-24 15:37:03  Por Esa Loca Vanidad   \n",
       "fae5a077c9956045955dde02143bd8ff 2021-11-24 15:37:03          Mil Lagrimas   \n",
       "6bede082154d34fc18d9a6744bc95bf5 2021-11-24 15:37:03   Sexo Humo y Alcohol   \n",
       "\n",
       "                                 language          isrc             genres  \\\n",
       "track_id                                                                     \n",
       "c3b9d6a354ca008aa4518329aaa21380       EN  RUB422103970            [DANCE]   \n",
       "c57e3d13bbbf5322584a7e92e6f1f7ff       EN  QZN882178276      [ELECTRONICS]   \n",
       "955f2aafe8717908c140bf122ba4172d     None  QZNJZ2122549  [FOLK, LATINFOLK]   \n",
       "fae5a077c9956045955dde02143bd8ff     None  QZNJZ2166033  [FOLK, LATINFOLK]   \n",
       "6bede082154d34fc18d9a6744bc95bf5     None  QZNJZ2122551  [FOLK, LATINFOLK]   \n",
       "\n",
       "                                  duration  \n",
       "track_id                                    \n",
       "c3b9d6a354ca008aa4518329aaa21380  161120.0  \n",
       "c57e3d13bbbf5322584a7e92e6f1f7ff  362260.0  \n",
       "955f2aafe8717908c140bf122ba4172d  260000.0  \n",
       "fae5a077c9956045955dde02143bd8ff  190000.0  \n",
       "6bede082154d34fc18d9a6744bc95bf5  203000.0  "
      ]
     },
     "execution_count": 104,
     "metadata": {},
     "output_type": "execute_result"
    }
   ],
   "source": [
    "meta.head()"
   ]
  },
  {
   "cell_type": "code",
   "execution_count": 46,
   "id": "2aa013bf-8b70-4acf-b2a4-4ea6a21afe03",
   "metadata": {
    "scrolled": true
   },
   "outputs": [
    {
     "name": "stdout",
     "output_type": "stream",
     "text": [
      "<class 'pandas.core.frame.DataFrame'>\n",
      "Index: 71769 entries, c3b9d6a354ca008aa4518329aaa21380 to 5731fc0a34c663a0c0082c712df15266\n",
      "Data columns (total 6 columns):\n",
      " #   Column    Non-Null Count  Dtype         \n",
      "---  ------    --------------  -----         \n",
      " 0   dttm      71768 non-null  datetime64[ns]\n",
      " 1   title     71768 non-null  object        \n",
      " 2   language  21969 non-null  object        \n",
      " 3   isrc      71455 non-null  object        \n",
      " 4   genres    71768 non-null  object        \n",
      " 5   duration  71768 non-null  float64       \n",
      "dtypes: datetime64[ns](1), float64(1), object(4)\n",
      "memory usage: 3.8+ MB\n"
     ]
    }
   ],
   "source": [
    "meta.info()"
   ]
  },
  {
   "cell_type": "code",
   "execution_count": 89,
   "id": "94ccfb64-6e41-4890-981b-15da22482b97",
   "metadata": {},
   "outputs": [
    {
     "data": {
      "text/plain": [
       "485"
      ]
     },
     "execution_count": 89,
     "metadata": {},
     "output_type": "execute_result"
    }
   ],
   "source": [
    "meta['isrc'].duplicated().sum()"
   ]
  },
  {
   "cell_type": "code",
   "execution_count": 99,
   "id": "16553c30-bb7c-4bf6-be29-1000f4ce10f6",
   "metadata": {},
   "outputs": [
    {
     "data": {
      "text/plain": [
       "Text(0, 0.5, 'Frequency')"
      ]
     },
     "execution_count": 99,
     "metadata": {},
     "output_type": "execute_result"
    },
    {
     "data": {
      "image/png": "[encoded data removed]",
      "text/plain": [
       "<Figure size 1000x300 with 1 Axes>"
      ]
     },
     "metadata": {},
     "output_type": "display_data"
    }
   ],
   "source": [
    "plt.figure(figsize=(10, 3))\n",
    "\n",
    "plt.hist(meta['dttm'], bins=30, color='skyblue', edgecolor='black')\n",
    "\n",
    "plt.title('Date of Information Addition for Tracks')\n",
    "plt.xlabel('Date')\n",
    "plt.ylabel('Frequency')"
   ]
  },
  {
   "cell_type": "code",
   "execution_count": 100,
   "id": "e12cffb8-49c0-435c-ad89-c00c7cc70260",
   "metadata": {},
   "outputs": [
    {
     "data": {
      "image/png": "[encoded data removed]",
      "text/plain": [
       "<Figure size 1000x300 with 1 Axes>"
      ]
     },
     "metadata": {},
     "output_type": "display_data"
    }
   ],
   "source": [
    "plt.figure(figsize=(10, 3))\n",
    "plt.hist(meta['duration'], bins=50, range=(0, 600000), color='skyblue', edgecolor='black')\n",
    "plt.title('Distribution of Song Durations')\n",
    "plt.xlabel('Duration (milliseconds)')\n",
    "plt.ylabel('Frequency')\n",
    "plt.show() "
   ]
  },
  {
   "cell_type": "markdown",
   "id": "d3e3dd13-a95f-4296-a6ed-4e7e3a47e9db",
   "metadata": {},
   "source": [
    "## covers"
   ]
  },
  {
   "cell_type": "code",
   "execution_count": 106,
   "id": "dea3cdb3-456c-4967-9010-3ed548dde10d",
   "metadata": {},
   "outputs": [],
   "source": [
    "covers = pd.read_json('/home/asketon/Documents/Masterskaja_YP DS Yandex Music_2023-10-24/data/covers.json', lines=True)"
   ]
  },
  {
   "cell_type": "code",
   "execution_count": 107,
   "id": "cfb6f326-4c39-493a-89b6-4baf084b2e43",
   "metadata": {},
   "outputs": [
    {
     "data": {
      "text/plain": [
       "0"
      ]
     },
     "execution_count": 107,
     "metadata": {},
     "output_type": "execute_result"
    }
   ],
   "source": [
    "covers['track_id'].duplicated().sum()"
   ]
  },
  {
   "cell_type": "code",
   "execution_count": 108,
   "id": "e666aa16-df67-420f-8662-31ad2f67315c",
   "metadata": {},
   "outputs": [],
   "source": [
    "covers = covers.set_index('track_id')"
   ]
  },
  {
   "cell_type": "code",
   "execution_count": 109,
   "id": "d2371ff7-0941-402d-b664-2cf19315455d",
   "metadata": {},
   "outputs": [
    {
     "data": {
      "text/html": [
       "<div>\n",
       "<style scoped>\n",
       "    .dataframe tbody tr th:only-of-type {\n",
       "        vertical-align: middle;\n",
       "    }\n",
       "\n",
       "    .dataframe tbody tr th {\n",
       "        vertical-align: top;\n",
       "    }\n",
       "\n",
       "    .dataframe thead th {\n",
       "        text-align: right;\n",
       "    }\n",
       "</style>\n",
       "<table border=\"1\" class=\"dataframe\">\n",
       "  <thead>\n",
       "    <tr style=\"text-align: right;\">\n",
       "      <th></th>\n",
       "      <th>original_track_id</th>\n",
       "      <th>track_remake_type</th>\n",
       "    </tr>\n",
       "    <tr>\n",
       "      <th>track_id</th>\n",
       "      <th></th>\n",
       "      <th></th>\n",
       "    </tr>\n",
       "  </thead>\n",
       "  <tbody>\n",
       "    <tr>\n",
       "      <th>eeb69a3cb92300456b6a5f4162093851</th>\n",
       "      <td>eeb69a3cb92300456b6a5f4162093851</td>\n",
       "      <td>ORIGINAL</td>\n",
       "    </tr>\n",
       "    <tr>\n",
       "      <th>fe7ee8fc1959cc7214fa21c4840dff0a</th>\n",
       "      <td>fe7ee8fc1959cc7214fa21c4840dff0a</td>\n",
       "      <td>ORIGINAL</td>\n",
       "    </tr>\n",
       "    <tr>\n",
       "      <th>cd89fef7ffdd490db800357f47722b20</th>\n",
       "      <td>cd89fef7ffdd490db800357f47722b20</td>\n",
       "      <td>ORIGINAL</td>\n",
       "    </tr>\n",
       "    <tr>\n",
       "      <th>995665640dc319973d3173a74a03860c</th>\n",
       "      <td>995665640dc319973d3173a74a03860c</td>\n",
       "      <td>ORIGINAL</td>\n",
       "    </tr>\n",
       "    <tr>\n",
       "      <th>d6288499d0083cc34e60a077b7c4b3e1</th>\n",
       "      <td>None</td>\n",
       "      <td>COVER</td>\n",
       "    </tr>\n",
       "  </tbody>\n",
       "</table>\n",
       "</div>"
      ],
      "text/plain": [
       "                                                 original_track_id  \\\n",
       "track_id                                                             \n",
       "eeb69a3cb92300456b6a5f4162093851  eeb69a3cb92300456b6a5f4162093851   \n",
       "fe7ee8fc1959cc7214fa21c4840dff0a  fe7ee8fc1959cc7214fa21c4840dff0a   \n",
       "cd89fef7ffdd490db800357f47722b20  cd89fef7ffdd490db800357f47722b20   \n",
       "995665640dc319973d3173a74a03860c  995665640dc319973d3173a74a03860c   \n",
       "d6288499d0083cc34e60a077b7c4b3e1                              None   \n",
       "\n",
       "                                 track_remake_type  \n",
       "track_id                                            \n",
       "eeb69a3cb92300456b6a5f4162093851          ORIGINAL  \n",
       "fe7ee8fc1959cc7214fa21c4840dff0a          ORIGINAL  \n",
       "cd89fef7ffdd490db800357f47722b20          ORIGINAL  \n",
       "995665640dc319973d3173a74a03860c          ORIGINAL  \n",
       "d6288499d0083cc34e60a077b7c4b3e1             COVER  "
      ]
     },
     "execution_count": 109,
     "metadata": {},
     "output_type": "execute_result"
    }
   ],
   "source": [
    "covers.head()"
   ]
  },
  {
   "cell_type": "code",
   "execution_count": 110,
   "id": "e0c4fb2b-dd9e-4415-acf2-75f01282a59d",
   "metadata": {
    "scrolled": true
   },
   "outputs": [
    {
     "name": "stdout",
     "output_type": "stream",
     "text": [
      "<class 'pandas.core.frame.DataFrame'>\n",
      "Index: 71597 entries, eeb69a3cb92300456b6a5f4162093851 to 7b0f6ff24137be50cf5ea5f82d789448\n",
      "Data columns (total 2 columns):\n",
      " #   Column             Non-Null Count  Dtype \n",
      "---  ------             --------------  ----- \n",
      " 0   original_track_id  4821 non-null   object\n",
      " 1   track_remake_type  71597 non-null  object\n",
      "dtypes: object(2)\n",
      "memory usage: 1.6+ MB\n"
     ]
    }
   ],
   "source": [
    "covers.info();"
   ]
  },
  {
   "cell_type": "code",
   "execution_count": 69,
   "id": "86151a9d-a588-4089-8f01-9a1970c77fa7",
   "metadata": {},
   "outputs": [
    {
     "data": {
      "text/plain": [
       "track_remake_type\n",
       "COVER       67304\n",
       "ORIGINAL     4293\n",
       "Name: count, dtype: int64"
      ]
     },
     "execution_count": 69,
     "metadata": {},
     "output_type": "execute_result"
    }
   ],
   "source": [
    "covers['track_remake_type'].value_counts()"
   ]
  },
  {
   "cell_type": "markdown",
   "id": "a45e7c62-2713-4b98-9ecf-ad2e6c9f7383",
   "metadata": {},
   "source": [
    "список самых часто повторяющихся значений в столбце covers['original_track_id']"
   ]
  },
  {
   "cell_type": "code",
   "execution_count": 66,
   "id": "b583600e-9030-4e57-84da-34b29893d62b",
   "metadata": {},
   "outputs": [
    {
     "data": {
      "text/plain": [
       "original_track_id\n",
       "f3e5e9db509f9b6f6d93b9c38e4e1324    38\n",
       "17a163f6ab3de102b49599f5577866fc    32\n",
       "deb9b9598176a0bab1212d430b10bd04    31\n",
       "53a04991308c2cc9179fdd401fea83a3    30\n",
       "eeb69a3cb92300456b6a5f4162093851    25\n",
       "9050384cce6c221c39d6e25d02561612    25\n",
       "8e0235cf2a39eacc4c78885ca7dd4de3    24\n",
       "ad1b9fe17c16ab73b2a52920fdb1a220    19\n",
       "cfcd208495d565ef66e7dff9f98764da    17\n",
       "0fcb82fec458a0993f848200548eaaa0    17\n",
       "Name: count, dtype: int64"
      ]
     },
     "execution_count": 66,
     "metadata": {},
     "output_type": "execute_result"
    }
   ],
   "source": [
    "covers['original_track_id'].value_counts().head(10)"
   ]
  },
  {
   "cell_type": "code",
   "execution_count": 73,
   "id": "8de3f289-e78c-471f-aa89-c4087c30a26d",
   "metadata": {},
   "outputs": [
    {
     "data": {
      "text/plain": [
       "0"
      ]
     },
     "execution_count": 73,
     "metadata": {},
     "output_type": "execute_result"
    }
   ],
   "source": [
    "covers[covers['track_remake_type'] == 'ORIGINAL'].duplicated().sum()"
   ]
  },
  {
   "cell_type": "markdown",
   "id": "f6eec446-1045-4a82-8a6f-f457c2bf5499",
   "metadata": {},
   "source": [
    "Кол-во каверов с имеющимися 'original_track_id':"
   ]
  },
  {
   "cell_type": "code",
   "execution_count": 77,
   "id": "06d4c7d9-0001-4482-9731-346e0cac5145",
   "metadata": {},
   "outputs": [
    {
     "data": {
      "text/plain": [
       "528"
      ]
     },
     "execution_count": 77,
     "metadata": {},
     "output_type": "execute_result"
    }
   ],
   "source": [
    "covers.loc[(covers['track_remake_type'] == 'COVER') & (~covers['original_track_id'].isna()), 'original_track_id'].count()"
   ]
  },
  {
   "cell_type": "markdown",
   "id": "553aefe8-0f75-4b00-9d44-2c124a599be1",
   "metadata": {},
   "source": [
    "### lyrics"
   ]
  },
  {
   "cell_type": "code",
   "execution_count": 111,
   "id": "9e46c545-74ff-4561-b64a-3e362b9a5b4e",
   "metadata": {},
   "outputs": [],
   "source": [
    "lyrics = pd.read_json('/home/asketon/Documents/Masterskaja_YP DS Yandex Music_2023-10-24/data/lyrics.json', lines=True)"
   ]
  },
  {
   "cell_type": "code",
   "execution_count": 113,
   "id": "2b9b1aa0-388e-49ae-9ff0-8ce484264c02",
   "metadata": {},
   "outputs": [
    {
     "data": {
      "text/html": [
       "<div>\n",
       "<style scoped>\n",
       "    .dataframe tbody tr th:only-of-type {\n",
       "        vertical-align: middle;\n",
       "    }\n",
       "\n",
       "    .dataframe tbody tr th {\n",
       "        vertical-align: top;\n",
       "    }\n",
       "\n",
       "    .dataframe thead th {\n",
       "        text-align: right;\n",
       "    }\n",
       "</style>\n",
       "<table border=\"1\" class=\"dataframe\">\n",
       "  <thead>\n",
       "    <tr style=\"text-align: right;\">\n",
       "      <th></th>\n",
       "      <th>lyricId</th>\n",
       "      <th>text</th>\n",
       "      <th>track_id</th>\n",
       "    </tr>\n",
       "  </thead>\n",
       "  <tbody>\n",
       "    <tr>\n",
       "      <th>0</th>\n",
       "      <td>a951f9504e89759e9d23039b7b17ec14</td>\n",
       "      <td>Живу сейчас обломами, обломками не той любви\\n...</td>\n",
       "      <td>1c4b1230f937e4c548ff732523214dcd</td>\n",
       "    </tr>\n",
       "    <tr>\n",
       "      <th>1</th>\n",
       "      <td>0c749bc3f01eb8e6cf986fa14ccfc585</td>\n",
       "      <td>Tell me your fable\\nA fable\\nTell me your fabl...</td>\n",
       "      <td>0faea89b0d7d6235b5b74def72511bd8</td>\n",
       "    </tr>\n",
       "    <tr>\n",
       "      <th>2</th>\n",
       "      <td>e2c8830fbc86e5964478243099eec23a</td>\n",
       "      <td>You're ashamed about all your fears and doubts...</td>\n",
       "      <td>9c6dc41d5ccd9968d07f055da5d8f741</td>\n",
       "    </tr>\n",
       "    <tr>\n",
       "      <th>3</th>\n",
       "      <td>e2c8830fbc86e5964478243099eec23a</td>\n",
       "      <td>You're ashamed about all your fears and doubts...</td>\n",
       "      <td>bfd04a73e9cffdf0e282c92219a86ea1</td>\n",
       "    </tr>\n",
       "    <tr>\n",
       "      <th>4</th>\n",
       "      <td>7624653ca8522ba93470843c74961b7d</td>\n",
       "      <td>You showed him all the best of you,\\nBut I'm a...</td>\n",
       "      <td>8d70930d09cd239c948408d1317d8659</td>\n",
       "    </tr>\n",
       "  </tbody>\n",
       "</table>\n",
       "</div>"
      ],
      "text/plain": [
       "                            lyricId  \\\n",
       "0  a951f9504e89759e9d23039b7b17ec14   \n",
       "1  0c749bc3f01eb8e6cf986fa14ccfc585   \n",
       "2  e2c8830fbc86e5964478243099eec23a   \n",
       "3  e2c8830fbc86e5964478243099eec23a   \n",
       "4  7624653ca8522ba93470843c74961b7d   \n",
       "\n",
       "                                                text  \\\n",
       "0  Живу сейчас обломами, обломками не той любви\\n...   \n",
       "1  Tell me your fable\\nA fable\\nTell me your fabl...   \n",
       "2  You're ashamed about all your fears and doubts...   \n",
       "3  You're ashamed about all your fears and doubts...   \n",
       "4  You showed him all the best of you,\\nBut I'm a...   \n",
       "\n",
       "                           track_id  \n",
       "0  1c4b1230f937e4c548ff732523214dcd  \n",
       "1  0faea89b0d7d6235b5b74def72511bd8  \n",
       "2  9c6dc41d5ccd9968d07f055da5d8f741  \n",
       "3  bfd04a73e9cffdf0e282c92219a86ea1  \n",
       "4  8d70930d09cd239c948408d1317d8659  "
      ]
     },
     "execution_count": 113,
     "metadata": {},
     "output_type": "execute_result"
    }
   ],
   "source": [
    "lyrics.head()"
   ]
  },
  {
   "cell_type": "markdown",
   "id": "41ddbdaa-d8b1-4f75-b9a1-cc9464627e23",
   "metadata": {},
   "source": [
    "Дубликаты по столбцам:"
   ]
  },
  {
   "cell_type": "code",
   "execution_count": 112,
   "id": "9240b99a-47a7-4c49-adc4-c8d118e01c88",
   "metadata": {},
   "outputs": [
    {
     "data": {
      "text/plain": [
       "1137"
      ]
     },
     "execution_count": 112,
     "metadata": {},
     "output_type": "execute_result"
    }
   ],
   "source": [
    "lyrics['track_id'].duplicated().sum()"
   ]
  },
  {
   "cell_type": "code",
   "execution_count": 83,
   "id": "d71a444c-dfab-4a5a-b3f5-1fbebb597e36",
   "metadata": {},
   "outputs": [
    {
     "data": {
      "text/plain": [
       "770"
      ]
     },
     "execution_count": 83,
     "metadata": {},
     "output_type": "execute_result"
    }
   ],
   "source": [
    "lyrics['text'].duplicated().sum()"
   ]
  },
  {
   "cell_type": "code",
   "execution_count": 115,
   "id": "353f8660-29d6-4fda-bd26-c6a77e334a6c",
   "metadata": {},
   "outputs": [
    {
     "data": {
      "text/plain": [
       "499"
      ]
     },
     "execution_count": 115,
     "metadata": {},
     "output_type": "execute_result"
    }
   ],
   "source": [
    "lyrics['lyricId'].duplicated().sum()"
   ]
  },
  {
   "cell_type": "code",
   "execution_count": 119,
   "id": "f5822718-101f-4c7a-8e91-5be3298cf917",
   "metadata": {},
   "outputs": [
    {
     "data": {
      "text/html": [
       "<div>\n",
       "<style scoped>\n",
       "    .dataframe tbody tr th:only-of-type {\n",
       "        vertical-align: middle;\n",
       "    }\n",
       "\n",
       "    .dataframe tbody tr th {\n",
       "        vertical-align: top;\n",
       "    }\n",
       "\n",
       "    .dataframe thead th {\n",
       "        text-align: right;\n",
       "    }\n",
       "</style>\n",
       "<table border=\"1\" class=\"dataframe\">\n",
       "  <thead>\n",
       "    <tr style=\"text-align: right;\">\n",
       "      <th></th>\n",
       "      <th>lyricId</th>\n",
       "      <th>text</th>\n",
       "      <th>track_id</th>\n",
       "    </tr>\n",
       "  </thead>\n",
       "  <tbody>\n",
       "    <tr>\n",
       "      <th>10681</th>\n",
       "      <td>039236cf5355b4a81a7d5e689dbbf00a</td>\n",
       "      <td>Hearts go astray\\nLeaving hurt when they go\\nI...</td>\n",
       "      <td>0021519c8533f1116591948bbb349aef</td>\n",
       "    </tr>\n",
       "    <tr>\n",
       "      <th>10686</th>\n",
       "      <td>0abe3bb343894590423064dee2d2a114</td>\n",
       "      <td>Hearts go astray\\nLeaving hurt when they go\\nI...</td>\n",
       "      <td>0021519c8533f1116591948bbb349aef</td>\n",
       "    </tr>\n",
       "    <tr>\n",
       "      <th>11306</th>\n",
       "      <td>1682f991cfa94d1440bef2aa417edec7</td>\n",
       "      <td>If I stay with you, if I'm choosing wrong\\nI d...</td>\n",
       "      <td>0102189356af15ad0be804eddd9bc24a</td>\n",
       "    </tr>\n",
       "    <tr>\n",
       "      <th>9220</th>\n",
       "      <td>6e3781576e60cfbee15f65d626ac130a</td>\n",
       "      <td>If I stay with you, if I'm choosing wrong\\nI d...</td>\n",
       "      <td>0102189356af15ad0be804eddd9bc24a</td>\n",
       "    </tr>\n",
       "    <tr>\n",
       "      <th>8330</th>\n",
       "      <td>52d3570b1f1e50113f10cdd65869614e</td>\n",
       "      <td>Well sometimes I go out by myself\\nAnd I look ...</td>\n",
       "      <td>02db8e8e8d3c08f3a57cc6db3876f942</td>\n",
       "    </tr>\n",
       "    <tr>\n",
       "      <th>...</th>\n",
       "      <td>...</td>\n",
       "      <td>...</td>\n",
       "      <td>...</td>\n",
       "    </tr>\n",
       "    <tr>\n",
       "      <th>8880</th>\n",
       "      <td>b48c26ba7186a8de9de9f3121a783da4</td>\n",
       "      <td>I got lost in the wilderness\\nI thought I was ...</td>\n",
       "      <td>fd93fa564461b42fea969d6cc1d16c18</td>\n",
       "    </tr>\n",
       "    <tr>\n",
       "      <th>7556</th>\n",
       "      <td>6ba951bfe34b90ab611f63c67caa708f</td>\n",
       "      <td>This night is cold in the kingdom\\nI can feel ...</td>\n",
       "      <td>ff032309afbd44985497077e1f041e97</td>\n",
       "    </tr>\n",
       "    <tr>\n",
       "      <th>11229</th>\n",
       "      <td>b2bd7e1c3e5b8987b0a7df143a2c3c0f</td>\n",
       "      <td>I cover the waterfront,\\nI'm watching the sea,...</td>\n",
       "      <td>ff54e3bcd7ef7aeb41c91f9abeac9c68</td>\n",
       "    </tr>\n",
       "    <tr>\n",
       "      <th>8881</th>\n",
       "      <td>d9107cc98fb6dc91853ea69ac98f1d58</td>\n",
       "      <td>Don't go tonight\\nStay here one more time\\nRem...</td>\n",
       "      <td>ff77df3ccccd54654ea4b2209dd6e38c</td>\n",
       "    </tr>\n",
       "    <tr>\n",
       "      <th>8895</th>\n",
       "      <td>c8af153ec09b0a087e79a0f77f7310bd</td>\n",
       "      <td>Don't go tonight\\nStay here one more time\\nRem...</td>\n",
       "      <td>ff77df3ccccd54654ea4b2209dd6e38c</td>\n",
       "    </tr>\n",
       "  </tbody>\n",
       "</table>\n",
       "<p>1137 rows × 3 columns</p>\n",
       "</div>"
      ],
      "text/plain": [
       "                                lyricId  \\\n",
       "10681  039236cf5355b4a81a7d5e689dbbf00a   \n",
       "10686  0abe3bb343894590423064dee2d2a114   \n",
       "11306  1682f991cfa94d1440bef2aa417edec7   \n",
       "9220   6e3781576e60cfbee15f65d626ac130a   \n",
       "8330   52d3570b1f1e50113f10cdd65869614e   \n",
       "...                                 ...   \n",
       "8880   b48c26ba7186a8de9de9f3121a783da4   \n",
       "7556   6ba951bfe34b90ab611f63c67caa708f   \n",
       "11229  b2bd7e1c3e5b8987b0a7df143a2c3c0f   \n",
       "8881   d9107cc98fb6dc91853ea69ac98f1d58   \n",
       "8895   c8af153ec09b0a087e79a0f77f7310bd   \n",
       "\n",
       "                                                    text  \\\n",
       "10681  Hearts go astray\\nLeaving hurt when they go\\nI...   \n",
       "10686  Hearts go astray\\nLeaving hurt when they go\\nI...   \n",
       "11306  If I stay with you, if I'm choosing wrong\\nI d...   \n",
       "9220   If I stay with you, if I'm choosing wrong\\nI d...   \n",
       "8330   Well sometimes I go out by myself\\nAnd I look ...   \n",
       "...                                                  ...   \n",
       "8880   I got lost in the wilderness\\nI thought I was ...   \n",
       "7556   This night is cold in the kingdom\\nI can feel ...   \n",
       "11229  I cover the waterfront,\\nI'm watching the sea,...   \n",
       "8881   Don't go tonight\\nStay here one more time\\nRem...   \n",
       "8895   Don't go tonight\\nStay here one more time\\nRem...   \n",
       "\n",
       "                               track_id  \n",
       "10681  0021519c8533f1116591948bbb349aef  \n",
       "10686  0021519c8533f1116591948bbb349aef  \n",
       "11306  0102189356af15ad0be804eddd9bc24a  \n",
       "9220   0102189356af15ad0be804eddd9bc24a  \n",
       "8330   02db8e8e8d3c08f3a57cc6db3876f942  \n",
       "...                                 ...  \n",
       "8880   fd93fa564461b42fea969d6cc1d16c18  \n",
       "7556   ff032309afbd44985497077e1f041e97  \n",
       "11229  ff54e3bcd7ef7aeb41c91f9abeac9c68  \n",
       "8881   ff77df3ccccd54654ea4b2209dd6e38c  \n",
       "8895   ff77df3ccccd54654ea4b2209dd6e38c  \n",
       "\n",
       "[1137 rows x 3 columns]"
      ]
     },
     "execution_count": 119,
     "metadata": {},
     "output_type": "execute_result"
    }
   ],
   "source": [
    "lyrics[lyrics['track_id'].duplicated()].sort_values('track_id')"
   ]
  },
  {
   "cell_type": "code",
   "execution_count": null,
   "id": "7c09987d-42d4-4a69-92b0-4af1d1b13d05",
   "metadata": {},
   "outputs": [],
   "source": []
  },
  {
   "cell_type": "code",
   "execution_count": 120,
   "id": "afe4638a-4fa7-470d-882d-d124daf011b6",
   "metadata": {},
   "outputs": [],
   "source": [
    "lyrics = lyrics.set_index('track_id')"
   ]
  },
  {
   "cell_type": "code",
   "execution_count": 114,
   "id": "9bd58240-4a27-4ebf-b8df-babe4208ef3a",
   "metadata": {},
   "outputs": [
    {
     "name": "stdout",
     "output_type": "stream",
     "text": [
      "<class 'pandas.core.frame.DataFrame'>\n",
      "RangeIndex: 11414 entries, 0 to 11413\n",
      "Data columns (total 3 columns):\n",
      " #   Column    Non-Null Count  Dtype \n",
      "---  ------    --------------  ----- \n",
      " 0   lyricId   11414 non-null  object\n",
      " 1   text      11414 non-null  object\n",
      " 2   track_id  11414 non-null  object\n",
      "dtypes: object(3)\n",
      "memory usage: 267.6+ KB\n"
     ]
    }
   ],
   "source": [
    "lyrics.info()"
   ]
  },
  {
   "cell_type": "markdown",
   "id": "994c6476-a4a6-4bf4-a796-4cd36202e689",
   "metadata": {},
   "source": [
    "Дубликаты по обоим столбцам:"
   ]
  },
  {
   "cell_type": "code",
   "execution_count": 80,
   "id": "be042842-a2f1-4830-94b4-cec34fc6dae9",
   "metadata": {},
   "outputs": [
    {
     "data": {
      "text/plain": [
       "499"
      ]
     },
     "execution_count": 80,
     "metadata": {},
     "output_type": "execute_result"
    }
   ],
   "source": [
    "lyrics.duplicated().sum()"
   ]
  },
  {
   "cell_type": "markdown",
   "id": "a4da6d18-cc0e-4b20-8a1d-de3a278f40a2",
   "metadata": {},
   "source": [
    "Дубликаты по совпадению первых 50 знаков по столбце 'text':"
   ]
  },
  {
   "cell_type": "code",
   "execution_count": 85,
   "id": "6db322f1-8dad-4cdb-9acd-43216c4dd9d8",
   "metadata": {},
   "outputs": [
    {
     "data": {
      "text/plain": [
       "2076"
      ]
     },
     "execution_count": 85,
     "metadata": {},
     "output_type": "execute_result"
    }
   ],
   "source": [
    "lyrics['text'].str[:50].duplicated().sum()"
   ]
  },
  {
   "cell_type": "code",
   "execution_count": 86,
   "id": "d3352f3f-0a68-4166-87e8-d69d650e4a6c",
   "metadata": {},
   "outputs": [
    {
     "data": {
      "text/plain": [
       "text\n",
       "Kiss me hard before you go\\nSummertime sadness\\nI ju    24\n",
       "The world was on fire and no one could save me but      23\n",
       "Sweet dreams are made of this\\nWho am I to disagree     20\n",
       "Twenty-five years and my life is still\\nI'm trying      16\n",
       "Load up on guns, bring your friends\\nIt's fun to lo     15\n",
       "                                                        ..\n",
       "Un gatto bianco con gli occhi blu\\nUn vecchio vaso       1\n",
       "За мои зелёные глаза\\nНазываешь ты меня колдуньей\\nГ     1\n",
       "I'm a Barbie girl, in the Barbie world\\nLife in pla      1\n",
       "As coisas que tinham valor\\nEu perdi e o mal triunf      1\n",
       "Этой ночью чьё-то сердце от любви горит\\nВсё внутри      1\n",
       "Name: count, Length: 9338, dtype: int64"
      ]
     },
     "execution_count": 86,
     "metadata": {},
     "output_type": "execute_result"
    }
   ],
   "source": [
    "lyrics['text'].str[:50].value_counts()"
   ]
  },
  {
   "cell_type": "markdown",
   "id": "b025c67d-78c1-4fbc-8035-a998373e688e",
   "metadata": {},
   "source": [
    "## Объединенный датасет"
   ]
  },
  {
   "cell_type": "code",
   "execution_count": 56,
   "id": "9842ff90-cccd-4870-bc42-6beb9797aab0",
   "metadata": {},
   "outputs": [],
   "source": [
    "df = meta.join(covers, how='left')\n",
    "df = df.join(lyrics, how='left')"
   ]
  },
  {
   "cell_type": "code",
   "execution_count": 54,
   "id": "0081a469-c9d6-488e-8bd0-9c1be739e12d",
   "metadata": {
    "scrolled": true
   },
   "outputs": [
    {
     "data": {
      "text/html": [
       "<div>\n",
       "<style scoped>\n",
       "    .dataframe tbody tr th:only-of-type {\n",
       "        vertical-align: middle;\n",
       "    }\n",
       "\n",
       "    .dataframe tbody tr th {\n",
       "        vertical-align: top;\n",
       "    }\n",
       "\n",
       "    .dataframe thead th {\n",
       "        text-align: right;\n",
       "    }\n",
       "</style>\n",
       "<table border=\"1\" class=\"dataframe\">\n",
       "  <thead>\n",
       "    <tr style=\"text-align: right;\">\n",
       "      <th></th>\n",
       "      <th>dttm</th>\n",
       "      <th>title</th>\n",
       "      <th>language</th>\n",
       "      <th>isrc</th>\n",
       "      <th>genres</th>\n",
       "      <th>duration</th>\n",
       "      <th>original_track_id</th>\n",
       "      <th>track_remake_type</th>\n",
       "      <th>lyricId</th>\n",
       "      <th>text</th>\n",
       "    </tr>\n",
       "    <tr>\n",
       "      <th>track_id</th>\n",
       "      <th></th>\n",
       "      <th></th>\n",
       "      <th></th>\n",
       "      <th></th>\n",
       "      <th></th>\n",
       "      <th></th>\n",
       "      <th></th>\n",
       "      <th></th>\n",
       "      <th></th>\n",
       "      <th></th>\n",
       "    </tr>\n",
       "  </thead>\n",
       "  <tbody>\n",
       "    <tr>\n",
       "      <th>fffc8f02feca70f7fad88fb987b76c4e</th>\n",
       "      <td>2021-10-02 00:35:55</td>\n",
       "      <td>La Luz de la Cara Roja</td>\n",
       "      <td>None</td>\n",
       "      <td>ARAB82100052</td>\n",
       "      <td>[ROCK, ALLROCK]</td>\n",
       "      <td>200100.0</td>\n",
       "      <td>None</td>\n",
       "      <td>COVER</td>\n",
       "      <td>NaN</td>\n",
       "      <td>NaN</td>\n",
       "    </tr>\n",
       "    <tr>\n",
       "      <th>fffefc046267a3f6263fc2c8d0f3f871</th>\n",
       "      <td>2021-10-11 21:47:01</td>\n",
       "      <td>Uska Hi Banana</td>\n",
       "      <td>None</td>\n",
       "      <td>QZNJX2142230</td>\n",
       "      <td>[FOLK]</td>\n",
       "      <td>185880.0</td>\n",
       "      <td>None</td>\n",
       "      <td>COVER</td>\n",
       "      <td>NaN</td>\n",
       "      <td>NaN</td>\n",
       "    </tr>\n",
       "    <tr>\n",
       "      <th>ffff8f1c01d78267ce067a2507fcc8f8</th>\n",
       "      <td>2019-05-17 16:50:33</td>\n",
       "      <td>No Limit</td>\n",
       "      <td>None</td>\n",
       "      <td>PLS921752714</td>\n",
       "      <td>[]</td>\n",
       "      <td>175950.0</td>\n",
       "      <td>None</td>\n",
       "      <td>COVER</td>\n",
       "      <td>NaN</td>\n",
       "      <td>NaN</td>\n",
       "    </tr>\n",
       "    <tr>\n",
       "      <th>ffff9a22aa441db772206280ffb8b52e</th>\n",
       "      <td>2015-02-04 21:00:00</td>\n",
       "      <td>You're a Woman</td>\n",
       "      <td>None</td>\n",
       "      <td>None</td>\n",
       "      <td>[POP]</td>\n",
       "      <td>321820.0</td>\n",
       "      <td>ffff9a22aa441db772206280ffb8b52e</td>\n",
       "      <td>ORIGINAL</td>\n",
       "      <td>748ffc10cc43b1a7e5524ad11fb9a182</td>\n",
       "      <td>Tonight\\nBe no darkness tonight\\nHold tight\\nL...</td>\n",
       "    </tr>\n",
       "    <tr>\n",
       "      <th>None</th>\n",
       "      <td>NaT</td>\n",
       "      <td>None</td>\n",
       "      <td>None</td>\n",
       "      <td>None</td>\n",
       "      <td>None</td>\n",
       "      <td>NaN</td>\n",
       "      <td>NaN</td>\n",
       "      <td>NaN</td>\n",
       "      <td>NaN</td>\n",
       "      <td>NaN</td>\n",
       "    </tr>\n",
       "  </tbody>\n",
       "</table>\n",
       "</div>"
      ],
      "text/plain": [
       "                                                dttm                   title  \\\n",
       "track_id                                                                       \n",
       "fffc8f02feca70f7fad88fb987b76c4e 2021-10-02 00:35:55  La Luz de la Cara Roja   \n",
       "fffefc046267a3f6263fc2c8d0f3f871 2021-10-11 21:47:01          Uska Hi Banana   \n",
       "ffff8f1c01d78267ce067a2507fcc8f8 2019-05-17 16:50:33                No Limit   \n",
       "ffff9a22aa441db772206280ffb8b52e 2015-02-04 21:00:00          You're a Woman   \n",
       "None                                             NaT                    None   \n",
       "\n",
       "                                 language          isrc           genres  \\\n",
       "track_id                                                                   \n",
       "fffc8f02feca70f7fad88fb987b76c4e     None  ARAB82100052  [ROCK, ALLROCK]   \n",
       "fffefc046267a3f6263fc2c8d0f3f871     None  QZNJX2142230           [FOLK]   \n",
       "ffff8f1c01d78267ce067a2507fcc8f8     None  PLS921752714               []   \n",
       "ffff9a22aa441db772206280ffb8b52e     None          None            [POP]   \n",
       "None                                 None          None             None   \n",
       "\n",
       "                                  duration                 original_track_id  \\\n",
       "track_id                                                                       \n",
       "fffc8f02feca70f7fad88fb987b76c4e  200100.0                              None   \n",
       "fffefc046267a3f6263fc2c8d0f3f871  185880.0                              None   \n",
       "ffff8f1c01d78267ce067a2507fcc8f8  175950.0                              None   \n",
       "ffff9a22aa441db772206280ffb8b52e  321820.0  ffff9a22aa441db772206280ffb8b52e   \n",
       "None                                   NaN                               NaN   \n",
       "\n",
       "                                 track_remake_type  \\\n",
       "track_id                                             \n",
       "fffc8f02feca70f7fad88fb987b76c4e             COVER   \n",
       "fffefc046267a3f6263fc2c8d0f3f871             COVER   \n",
       "ffff8f1c01d78267ce067a2507fcc8f8             COVER   \n",
       "ffff9a22aa441db772206280ffb8b52e          ORIGINAL   \n",
       "None                                           NaN   \n",
       "\n",
       "                                                           lyricId  \\\n",
       "track_id                                                             \n",
       "fffc8f02feca70f7fad88fb987b76c4e                               NaN   \n",
       "fffefc046267a3f6263fc2c8d0f3f871                               NaN   \n",
       "ffff8f1c01d78267ce067a2507fcc8f8                               NaN   \n",
       "ffff9a22aa441db772206280ffb8b52e  748ffc10cc43b1a7e5524ad11fb9a182   \n",
       "None                                                           NaN   \n",
       "\n",
       "                                                                               text  \n",
       "track_id                                                                             \n",
       "fffc8f02feca70f7fad88fb987b76c4e                                                NaN  \n",
       "fffefc046267a3f6263fc2c8d0f3f871                                                NaN  \n",
       "ffff8f1c01d78267ce067a2507fcc8f8                                                NaN  \n",
       "ffff9a22aa441db772206280ffb8b52e  Tonight\\nBe no darkness tonight\\nHold tight\\nL...  \n",
       "None                                                                            NaN  "
      ]
     },
     "execution_count": 54,
     "metadata": {},
     "output_type": "execute_result"
    }
   ],
   "source": [
    "df.tail()"
   ]
  },
  {
   "cell_type": "code",
   "execution_count": 57,
   "id": "b5e0d9a6-248e-42f0-9279-a54d0f3d172a",
   "metadata": {},
   "outputs": [
    {
     "name": "stdout",
     "output_type": "stream",
     "text": [
      "<class 'pandas.core.frame.DataFrame'>\n",
      "Index: 72906 entries, 0000757a652c12554a82002cd90cc10a to None\n",
      "Data columns (total 10 columns):\n",
      " #   Column             Non-Null Count  Dtype         \n",
      "---  ------             --------------  -----         \n",
      " 0   dttm               72905 non-null  datetime64[ns]\n",
      " 1   title              72905 non-null  object        \n",
      " 2   language           22870 non-null  object        \n",
      " 3   isrc               72566 non-null  object        \n",
      " 4   genres             72905 non-null  object        \n",
      " 5   duration           72905 non-null  float64       \n",
      " 6   original_track_id  5378 non-null   object        \n",
      " 7   track_remake_type  72571 non-null  object        \n",
      " 8   lyricId            11414 non-null  object        \n",
      " 9   text               11414 non-null  object        \n",
      "dtypes: datetime64[ns](1), float64(1), object(8)\n",
      "memory usage: 6.1+ MB\n"
     ]
    }
   ],
   "source": [
    "df.info()"
   ]
  },
  {
   "cell_type": "code",
   "execution_count": 61,
   "id": "064b118c-99bc-4e08-94fd-9d5ac3adfa79",
   "metadata": {},
   "outputs": [
    {
     "data": {
      "text/html": [
       "<div>\n",
       "<style scoped>\n",
       "    .dataframe tbody tr th:only-of-type {\n",
       "        vertical-align: middle;\n",
       "    }\n",
       "\n",
       "    .dataframe tbody tr th {\n",
       "        vertical-align: top;\n",
       "    }\n",
       "\n",
       "    .dataframe thead th {\n",
       "        text-align: right;\n",
       "    }\n",
       "</style>\n",
       "<table border=\"1\" class=\"dataframe\">\n",
       "  <thead>\n",
       "    <tr style=\"text-align: right;\">\n",
       "      <th></th>\n",
       "      <th>dttm</th>\n",
       "      <th>title</th>\n",
       "      <th>language</th>\n",
       "      <th>isrc</th>\n",
       "      <th>genres</th>\n",
       "      <th>duration</th>\n",
       "      <th>original_track_id</th>\n",
       "      <th>track_remake_type</th>\n",
       "      <th>lyricId</th>\n",
       "      <th>text</th>\n",
       "    </tr>\n",
       "  </thead>\n",
       "  <tbody>\n",
       "    <tr>\n",
       "      <th>count</th>\n",
       "      <td>72905</td>\n",
       "      <td>72905</td>\n",
       "      <td>22870</td>\n",
       "      <td>72566</td>\n",
       "      <td>72905</td>\n",
       "      <td>7.290500e+04</td>\n",
       "      <td>5378</td>\n",
       "      <td>72571</td>\n",
       "      <td>11414</td>\n",
       "      <td>11414</td>\n",
       "    </tr>\n",
       "    <tr>\n",
       "      <th>unique</th>\n",
       "      <td>NaN</td>\n",
       "      <td>45462</td>\n",
       "      <td>85</td>\n",
       "      <td>71283</td>\n",
       "      <td>232</td>\n",
       "      <td>NaN</td>\n",
       "      <td>4468</td>\n",
       "      <td>2</td>\n",
       "      <td>10915</td>\n",
       "      <td>10644</td>\n",
       "    </tr>\n",
       "    <tr>\n",
       "      <th>top</th>\n",
       "      <td>NaN</td>\n",
       "      <td>Morena</td>\n",
       "      <td>EN</td>\n",
       "      <td>US4BR0500030</td>\n",
       "      <td>[FOLK, LATINFOLK]</td>\n",
       "      <td>NaN</td>\n",
       "      <td>f3e5e9db509f9b6f6d93b9c38e4e1324</td>\n",
       "      <td>COVER</td>\n",
       "      <td>28fbafaf626c497d0d4d933b4f0d3f5b</td>\n",
       "      <td>Twenty-five years and my life is still\\nI'm tr...</td>\n",
       "    </tr>\n",
       "    <tr>\n",
       "      <th>freq</th>\n",
       "      <td>NaN</td>\n",
       "      <td>81</td>\n",
       "      <td>16121</td>\n",
       "      <td>24</td>\n",
       "      <td>18399</td>\n",
       "      <td>NaN</td>\n",
       "      <td>41</td>\n",
       "      <td>67770</td>\n",
       "      <td>9</td>\n",
       "      <td>15</td>\n",
       "    </tr>\n",
       "    <tr>\n",
       "      <th>mean</th>\n",
       "      <td>2020-02-22 02:06:38.293175808</td>\n",
       "      <td>NaN</td>\n",
       "      <td>NaN</td>\n",
       "      <td>NaN</td>\n",
       "      <td>NaN</td>\n",
       "      <td>2.051841e+05</td>\n",
       "      <td>NaN</td>\n",
       "      <td>NaN</td>\n",
       "      <td>NaN</td>\n",
       "      <td>NaN</td>\n",
       "    </tr>\n",
       "    <tr>\n",
       "      <th>min</th>\n",
       "      <td>2009-08-10 17:32:06</td>\n",
       "      <td>NaN</td>\n",
       "      <td>NaN</td>\n",
       "      <td>NaN</td>\n",
       "      <td>NaN</td>\n",
       "      <td>0.000000e+00</td>\n",
       "      <td>NaN</td>\n",
       "      <td>NaN</td>\n",
       "      <td>NaN</td>\n",
       "      <td>NaN</td>\n",
       "    </tr>\n",
       "    <tr>\n",
       "      <th>25%</th>\n",
       "      <td>2019-07-28 21:15:47</td>\n",
       "      <td>NaN</td>\n",
       "      <td>NaN</td>\n",
       "      <td>NaN</td>\n",
       "      <td>NaN</td>\n",
       "      <td>1.616300e+05</td>\n",
       "      <td>NaN</td>\n",
       "      <td>NaN</td>\n",
       "      <td>NaN</td>\n",
       "      <td>NaN</td>\n",
       "    </tr>\n",
       "    <tr>\n",
       "      <th>50%</th>\n",
       "      <td>2021-05-03 21:37:10</td>\n",
       "      <td>NaN</td>\n",
       "      <td>NaN</td>\n",
       "      <td>NaN</td>\n",
       "      <td>NaN</td>\n",
       "      <td>1.996500e+05</td>\n",
       "      <td>NaN</td>\n",
       "      <td>NaN</td>\n",
       "      <td>NaN</td>\n",
       "      <td>NaN</td>\n",
       "    </tr>\n",
       "    <tr>\n",
       "      <th>75%</th>\n",
       "      <td>2021-11-12 22:24:01</td>\n",
       "      <td>NaN</td>\n",
       "      <td>NaN</td>\n",
       "      <td>NaN</td>\n",
       "      <td>NaN</td>\n",
       "      <td>2.392800e+05</td>\n",
       "      <td>NaN</td>\n",
       "      <td>NaN</td>\n",
       "      <td>NaN</td>\n",
       "      <td>NaN</td>\n",
       "    </tr>\n",
       "    <tr>\n",
       "      <th>max</th>\n",
       "      <td>2023-10-18 21:00:00</td>\n",
       "      <td>NaN</td>\n",
       "      <td>NaN</td>\n",
       "      <td>NaN</td>\n",
       "      <td>NaN</td>\n",
       "      <td>5.487300e+06</td>\n",
       "      <td>NaN</td>\n",
       "      <td>NaN</td>\n",
       "      <td>NaN</td>\n",
       "      <td>NaN</td>\n",
       "    </tr>\n",
       "    <tr>\n",
       "      <th>std</th>\n",
       "      <td>NaN</td>\n",
       "      <td>NaN</td>\n",
       "      <td>NaN</td>\n",
       "      <td>NaN</td>\n",
       "      <td>NaN</td>\n",
       "      <td>8.537061e+04</td>\n",
       "      <td>NaN</td>\n",
       "      <td>NaN</td>\n",
       "      <td>NaN</td>\n",
       "      <td>NaN</td>\n",
       "    </tr>\n",
       "  </tbody>\n",
       "</table>\n",
       "</div>"
      ],
      "text/plain": [
       "                                 dttm   title language          isrc  \\\n",
       "count                           72905   72905    22870         72566   \n",
       "unique                            NaN   45462       85         71283   \n",
       "top                               NaN  Morena       EN  US4BR0500030   \n",
       "freq                              NaN      81    16121            24   \n",
       "mean    2020-02-22 02:06:38.293175808     NaN      NaN           NaN   \n",
       "min               2009-08-10 17:32:06     NaN      NaN           NaN   \n",
       "25%               2019-07-28 21:15:47     NaN      NaN           NaN   \n",
       "50%               2021-05-03 21:37:10     NaN      NaN           NaN   \n",
       "75%               2021-11-12 22:24:01     NaN      NaN           NaN   \n",
       "max               2023-10-18 21:00:00     NaN      NaN           NaN   \n",
       "std                               NaN     NaN      NaN           NaN   \n",
       "\n",
       "                   genres      duration                 original_track_id  \\\n",
       "count               72905  7.290500e+04                              5378   \n",
       "unique                232           NaN                              4468   \n",
       "top     [FOLK, LATINFOLK]           NaN  f3e5e9db509f9b6f6d93b9c38e4e1324   \n",
       "freq                18399           NaN                                41   \n",
       "mean                  NaN  2.051841e+05                               NaN   \n",
       "min                   NaN  0.000000e+00                               NaN   \n",
       "25%                   NaN  1.616300e+05                               NaN   \n",
       "50%                   NaN  1.996500e+05                               NaN   \n",
       "75%                   NaN  2.392800e+05                               NaN   \n",
       "max                   NaN  5.487300e+06                               NaN   \n",
       "std                   NaN  8.537061e+04                               NaN   \n",
       "\n",
       "       track_remake_type                           lyricId  \\\n",
       "count              72571                             11414   \n",
       "unique                 2                             10915   \n",
       "top                COVER  28fbafaf626c497d0d4d933b4f0d3f5b   \n",
       "freq               67770                                 9   \n",
       "mean                 NaN                               NaN   \n",
       "min                  NaN                               NaN   \n",
       "25%                  NaN                               NaN   \n",
       "50%                  NaN                               NaN   \n",
       "75%                  NaN                               NaN   \n",
       "max                  NaN                               NaN   \n",
       "std                  NaN                               NaN   \n",
       "\n",
       "                                                     text  \n",
       "count                                               11414  \n",
       "unique                                              10644  \n",
       "top     Twenty-five years and my life is still\\nI'm tr...  \n",
       "freq                                                   15  \n",
       "mean                                                  NaN  \n",
       "min                                                   NaN  \n",
       "25%                                                   NaN  \n",
       "50%                                                   NaN  \n",
       "75%                                                   NaN  \n",
       "max                                                   NaN  \n",
       "std                                                   NaN  "
      ]
     },
     "execution_count": 61,
     "metadata": {},
     "output_type": "execute_result"
    }
   ],
   "source": [
    "df.describe(include='all')"
   ]
  },
  {
   "cell_type": "code",
   "execution_count": null,
   "id": "af8f24e2-886a-4720-b4e5-b96f2d7573d6",
   "metadata": {},
   "outputs": [],
   "source": []
  },
  {
   "cell_type": "code",
   "execution_count": null,
   "id": "165fabfb-6d89-4ff5-8d4d-c91e4441a4a3",
   "metadata": {},
   "outputs": [],
   "source": []
  }
 ],
 "metadata": {
  "kernelspec": {
   "display_name": "Python 3 (ipykernel)",
   "language": "python",
   "name": "python3"
  },
  "language_info": {
   "codemirror_mode": {
    "name": "ipython",
    "version": 3
   },
   "file_extension": ".py",
   "mimetype": "text/x-python",
   "name": "python",
   "nbconvert_exporter": "python",
   "pygments_lexer": "ipython3",
   "version": "3.10.12"
  }
 },
 "nbformat": 4,
 "nbformat_minor": 5
}
